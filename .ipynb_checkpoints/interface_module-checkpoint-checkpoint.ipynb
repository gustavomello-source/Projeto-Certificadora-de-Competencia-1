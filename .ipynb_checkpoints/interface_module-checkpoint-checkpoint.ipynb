{
 "cells": [
  {
   "cell_type": "code",
   "execution_count": 3,
   "id": "cdce61be",
   "metadata": {},
   "outputs": [],
   "source": [
    "import math\n",
    "import tkinter as tk\n",
    "from tkinter import ttk"
   ]
  },
  {
   "cell_type": "code",
   "execution_count": 4,
   "id": "d542adb9",
   "metadata": {},
   "outputs": [],
   "source": [
    "import pandas as pd"
   ]
  },
  {
   "cell_type": "code",
   "execution_count": 5,
   "id": "97fda391",
   "metadata": {},
   "outputs": [],
   "source": [
    "def create_table(canvas):\n",
    "    global tree\n",
    "\n",
    "    tree = ttk.Treeview(\n",
    "        canvas, \n",
    "        show=\"headings\",\n",
    "        selectmode=\"browse\",\n",
    "        height=10,\n",
    "        padding=10,\n",
    "    )\n",
    "    \n",
    "    tree[\"columns\"] = (\"Enunciado\", \"Tópico\", \"Dificuldade\")\n",
    "    tree.heading(\"Enunciado\", text=\"Enunciado\")\n",
    "    tree.heading(\"Tópico\", text=\"Tópico\")\n",
    "    tree.heading(\"Dificuldade\", text=\"Dificuldade\", command=lambda c=\"Dificuldade\": sort_treeview(tree, c, False))\n",
    "    tree.bind('<ButtonRelease-1>', on_line_click)\n",
    "\n",
    "    fill_list(tree)\n",
    "\n",
    "    print(\"Created Treeview\")\n",
    "    return tree\n"
   ]
  },
  {
   "cell_type": "code",
   "execution_count": 6,
   "id": "12d36928",
   "metadata": {},
   "outputs": [],
   "source": [
    "def fill_list(tree):\n",
    "    for index, row in df.iterrows():\n",
    "        tree.insert(\"\", \"end\", values=(row[\"question\"], row[\"topic\"], row[\"difficulty\"]))"
   ]
  },
  {
   "cell_type": "code",
   "execution_count": 7,
   "id": "f162fa97",
   "metadata": {},
   "outputs": [],
   "source": [
    "def create_text_box(canvas):\n",
    "    text_box = tk.Text(\n",
    "        canvas,\n",
    "        height=10, \n",
    "        width=40,  \n",
    "    )\n",
    "\n",
    "    canvas.create_window(550, 300, window=text_box) \n",
    "\n",
    "    text_box.pack(expand=False)\n",
    "    text_box.insert('end', \"Question\")\n",
    "    text_box.config(state='disabled')\n",
    "\n",
    "    print(\"Created Text Box\")\n",
    "    return text_box"
   ]
  },
  {
   "cell_type": "code",
   "execution_count": 8,
   "id": "90dd3525",
   "metadata": {},
   "outputs": [],
   "source": [
    "def create_input_fields(canvas, var_names):\n",
    "    global input_entries\n",
    "\n",
    "    label_list = []\n",
    "    entry_list = []\n",
    "    button_list = []\n",
    "\n",
    "    label = tk.Label(canvas, text=f\"Entrar Resposta:\")\n",
    "    label.pack()\n",
    "    label_list.append(label)\n",
    "\n",
    "    entry = tk.Entry(canvas)\n",
    "    entry.pack()\n",
    "    entry_list.append(entry)\n",
    "    \n",
    "\n",
    "    for variable in var_names:\n",
    "        label = tk.Label(canvas, text=f\"Enter {variable}:\")\n",
    "        label.pack()\n",
    "        label_list.append(label)\n",
    "\n",
    "        entry = tk.Entry(canvas)\n",
    "        entry.pack()\n",
    "        entry_list.append(entry)\n",
    "\n",
    "    read_button = tk.Button(canvas, text=\"Resolver Exercício\", command=read_inputs)\n",
    "    read_button.pack()\n",
    "    button_list.append(read_button)\n",
    "\n",
    "    input_entries = [label_list, entry_list, button_list]"
   ]
  },
  {
   "cell_type": "code",
   "execution_count": 9,
   "id": "73cfd75a",
   "metadata": {},
   "outputs": [],
   "source": [
    "def read_inputs():\n",
    "    values = [entry.get() for entry in input_entries]"
   ]
  },
  {
   "cell_type": "code",
   "execution_count": 10,
   "id": "2f2dbb72",
   "metadata": {},
   "outputs": [],
   "source": [
    "def fill_text_box(text):\n",
    "    global text_box\n",
    "    text_box.delete(0, tk.END)\n",
    "    text_box.insert(0, text)"
   ]
  },
  {
   "cell_type": "code",
   "execution_count": 11,
   "id": "5748122d",
   "metadata": {},
   "outputs": [],
   "source": [
    "def sort_treeview(tree, col, descending):\n",
    "    difficulty_order = {\"Difícil\": 0, \"Médio\": 1, \"Fácil\": 2}\n",
    "\n",
    "    data = [(difficulty_order.get(tree.set(item, col), float('inf')), item) for item in tree.get_children('')]\n",
    "    data.sort(reverse=descending)\n",
    "    for index, (_, item) in enumerate(data):\n",
    "        tree.move(item, '', index)\n",
    "    tree.heading(col, command=lambda: sort_treeview(tree, col, not descending))"
   ]
  },
  {
   "cell_type": "code",
   "execution_count": 12,
   "id": "f59ba7c2",
   "metadata": {},
   "outputs": [],
   "source": [
    "def resize_canvas(event):\n",
    "    global color1, color2\n",
    "    \n",
    "    canvas.delete(\"all\")\n",
    "    \n",
    "    color1, color2 = set_color()\n",
    "    \n",
    "    create_gradient_background(0, 0, event.width, event.height, color1, color2)"
   ]
  },
  {
   "cell_type": "code",
   "execution_count": 13,
   "id": "242236c7",
   "metadata": {},
   "outputs": [],
   "source": [
    "def resize_table(event):\n",
    "    print(\"CALLED RESIZE TABLE\")\n",
    "    tree_width = event.width * 0.9\n",
    "    \n",
    "    tree.place(x=(event.width - (tree_width/2)) / 2, y=(450))"
   ]
  },
  {
   "cell_type": "code",
   "execution_count": 14,
   "id": "13fa2fb3",
   "metadata": {},
   "outputs": [],
   "source": [
    "def on_line_click(event):\n",
    "    selected_item = tree.selection()\n",
    "    delete_input_entries()\n",
    "    \n",
    "    if selected_item:\n",
    "        item = tree.selection()[0]\n",
    "        question_text = tree.item(item, \"values\")[0]\n",
    "        \n",
    "        print(\"Values for clicked item:\", question_text)\n",
    "        print(tree.item(item, \"values\"))\n",
    "        \n",
    "        var_names = get_var_names_from_line(tree.index(item))\n",
    "        create_input_fields(canvas, var_names)\n",
    "        \n",
    "        #fill_text_box(question_text)\n",
    "    else:\n",
    "        print(\"No exercise selected\")\n",
    "        #fill_text_box(\"No exercise selected\")"
   ]
  },
  {
   "cell_type": "code",
   "execution_count": 15,
   "id": "26739399",
   "metadata": {},
   "outputs": [],
   "source": [
    "def delete_input_entries():\n",
    "    global input_entries\n",
    "    \n",
    "    for label in input_entries[0]:\n",
    "        label.destroy()\n",
    "\n",
    "    for entry in input_entries[1]:\n",
    "        entry.destroy()\n",
    "        \n",
    "    for button in input_entries[2]:\n",
    "        button.destroy()"
   ]
  },
  {
   "cell_type": "code",
   "execution_count": 16,
   "id": "bdeb0d1b",
   "metadata": {},
   "outputs": [],
   "source": [
    "def create_gradient_background(x1, y1, x2, y2, color1, color2):\n",
    "    # Direção do gradiente\n",
    "    dx = x2 - x1\n",
    "    dy = y2 - y1\n",
    "    \n",
    "    #Cálculo para interpolação das cores\n",
    "    steps = max(dx, dy)\n",
    "    step_r = (color2[0] - color1[0]) / steps\n",
    "    step_g = (color2[1] - color1[1]) / steps\n",
    "    step_b = (color2[2] - color1[2]) / steps\n",
    "    \n",
    "    \n",
    "    \n",
    "    for y in range(y1, y2):\n",
    "        # Calculando cor\n",
    "        r = int((color1[0] * (y2 - y) + color2[0] * (y - y1)) / (y2 - y1))\n",
    "        g = int((color1[1] * (y2 - y) + color2[1] * (y - y1)) / (y2 - y1))\n",
    "        b = int((color1[2] * (y2 - y) + color2[2] * (y - y1)) / (y2 - y1))\n",
    "        hex_color = f\"#{r:02X}{g:02X}{b:02X}\"\n",
    "        \n",
    "        canvas.create_line(x1, y, x2, y, fill=hex_color)"
   ]
  },
  {
   "cell_type": "code",
   "execution_count": 17,
   "id": "0b7fc785",
   "metadata": {},
   "outputs": [],
   "source": [
    "def set_color():\n",
    "    c1 = (107, 31, 124)  # Rosa #A1405D\n",
    "    c2 = (161, 64, 93)  # Roxo #6B1F7C\n",
    "    return c1, c2"
   ]
  },
  {
   "cell_type": "code",
   "execution_count": 18,
   "id": "abb32008",
   "metadata": {},
   "outputs": [],
   "source": [
    "def create_canvas(root, w, h):\n",
    "    global canvas\n",
    "    canvas = ctk.Canvas(root, width=w, height=h)\n",
    "    canvas.pack(fill=tk.BOTH, expand=True)\n",
    "    create_gradient_background(0, 0, w, h, color1, color2)"
   ]
  },
  {
   "cell_type": "code",
   "execution_count": 19,
   "id": "b7fda1be",
   "metadata": {},
   "outputs": [],
   "source": [
    "def start_interface(root, w, h):\n",
    "    global canvas, color1, color2\n",
    "    global text_box\n",
    "    canvas = tk.Canvas(root, width=w, height=h, bg=\"#A1405D\", highlightthickness=0)\n",
    "    canvas.pack(fill=tk.BOTH, expand=True)\n",
    "    canvas.bind(\"<Configure>\", configure_canvas)\n",
    "    \n",
    "    color1, color2 = set_color()\n",
    "    \n",
    "    create_table(canvas)\n",
    "    text_box = create_text_box(canvas)\n",
    "    create_input_fields(canvas, get_var_names_from_line(0))\n",
    "    \n",
    "    root.mainloop()"
   ]
  },
  {
   "cell_type": "code",
   "execution_count": 20,
   "id": "d14bf445",
   "metadata": {},
   "outputs": [],
   "source": [
    "def awake_interface():\n",
    "    global input_entries #variável para input_fields\n",
    "    input_entries = []\n",
    "    \n",
    "    #import data_module.ipynb\n",
    "    read_data()\n",
    "    root = tk.Tk()\n",
    "    root.geometry(\"1280x780\")\n",
    "    root.title(\"Main Tab\")\n",
    "    height = 780\n",
    "    width = 1280\n",
    "    start_interface(root, width, height)"
   ]
  },
  {
   "cell_type": "code",
   "execution_count": 21,
   "id": "4128e7bf",
   "metadata": {},
   "outputs": [],
   "source": [
    "def configure_canvas(event):\n",
    "    resize_canvas(event)\n",
    "    resize_table(event)"
   ]
  },
  {
   "cell_type": "code",
   "execution_count": 22,
   "id": "61545514",
   "metadata": {},
   "outputs": [],
   "source": [
    "def install_dependencies():\n",
    "    !pip install tkinter\n",
    "    !pip install tk\n",
    "    !pip install pandas"
   ]
  },
  {
   "cell_type": "code",
   "execution_count": 23,
   "id": "46f2016d",
   "metadata": {},
   "outputs": [],
   "source": [
    "def read_data(): #FROM DATA_MODULE\n",
    "    global df\n",
    "    exercises_data_path = './data/exercises.csv'\n",
    "    df = pd.read_csv(exercises_data_path)"
   ]
  },
  {
   "cell_type": "code",
   "execution_count": 24,
   "id": "f261cf68",
   "metadata": {},
   "outputs": [],
   "source": [
    "def get_dataframe(): #FROM DATA_MODULE\n",
    "    return df"
   ]
  },
  {
   "cell_type": "code",
   "execution_count": 25,
   "id": "67fa9bc7",
   "metadata": {},
   "outputs": [],
   "source": [
    "def decode_variables(df): #FROM DATA MODULE\n",
    "    global var_names\n",
    "    var_names = []\n",
    "    \n",
    "    global var_values\n",
    "    var_values = []\n",
    "    \n",
    "    for row in df['variables']:\n",
    "        variables = row.split(';')\n",
    "        var_dict = {}\n",
    "        \n",
    "        for variable in variables:\n",
    "            var_parts = variable.split('=')\n",
    "            if len(var_parts) == 2:\n",
    "                var_name, var_value = var_parts\n",
    "                var_dict[var_name] = float(var_value) #converte strings em floats\n",
    "        \n",
    "        var_names.append(var_dict.keys())\n",
    "        var_values.append(var_dict.values())\n",
    "        \n",
    "    return var_names, var_values"
   ]
  },
  {
   "cell_type": "code",
   "execution_count": 26,
   "id": "35f42cac",
   "metadata": {},
   "outputs": [],
   "source": [
    "def get_var_names_from_line(index): #FROM DATA MODULE\n",
    "    global df\n",
    "        \n",
    "    names = []\n",
    "    \n",
    "    variables = df['variables'].str.split(';').iloc[index]\n",
    "    \n",
    "    for variable in variables:\n",
    "        var_parts = variable.split('=')\n",
    "        \n",
    "        if len(var_parts) == 2:\n",
    "            var_name, var_value = var_parts\n",
    "            names.append(var_name)\n",
    "        \n",
    "    return names"
   ]
  },
  {
   "cell_type": "code",
   "execution_count": 27,
   "id": "fe522494",
   "metadata": {},
   "outputs": [],
   "source": [
    "def get_exercise_variables(id):\n",
    "    global var_names, var_values\n",
    "    exercise_variable_names = []\n",
    "    exercise_variable_values = []\n",
    "    \n",
    "    for var in var_names[id]:\n",
    "        exercise_variable_names.append(var)\n",
    "        \n",
    "    \n",
    "    for var in var_values[id]:\n",
    "        exercise_variable_values.append(var)\n",
    "    \n",
    "    print(exercise_variable_names, exercise_variable_values)\n",
    "    \n",
    "    return exercise_variable_names, exercise_variable_values"
   ]
  },
  {
   "cell_type": "code",
   "execution_count": 28,
   "id": "8c421ad8",
   "metadata": {},
   "outputs": [],
   "source": [
    "def main():\n",
    "    awake_interface()"
   ]
  },
  {
   "cell_type": "code",
   "execution_count": null,
   "id": "cf6d98ee",
   "metadata": {},
   "outputs": [
    {
     "name": "stdout",
     "output_type": "stream",
     "text": [
      "Created Treeview\n",
      "Created Text Box\n",
      "CALLED RESIZE TABLE\n",
      "No exercise selected\n",
      "Values for clicked item: (Unicamp 2023) A prática esportiva de \"pular corda\" vem conquistando muitos adeptos e se tornando uma modalidade de competição. Numa prova de velocidade, um atleta consegue dar 105 saltos em 30 segundos. Considerando que o ponto da corda que passa sob os pés e acima da cabeça do praticante descreve uma trajetória circular de raio r = 90 cm, qual é a velocidade escalar desse ponto da corda? Use π = 3.\n",
      "('(Unicamp 2023) A prática esportiva de \"pular corda\" vem conquistando muitos adeptos e se tornando uma modalidade de competição. Numa prova de velocidade, um atleta consegue dar 105 saltos em 30 segundos. Considerando que o ponto da corda que passa sob os pés e acima da cabeça do praticante descreve uma trajetória circular de raio r = 90 cm, qual é a velocidade escalar desse ponto da corda? Use π = 3.', 'Cinemática', 'Fácil')\n",
      "Values for clicked item: (Unicamp 2021) Ao passar pelo sensor magnético, a velocidade linear de um ponto de uma fita cassete év 0,045 m/s. Depois de passar pelo sensor, a fita é enrolada em uma bobina circular de diâmetro d 6,0 cm. Em quanto tempo a bobina completa uma volta?\n",
      "('(Unicamp 2021) Ao passar pelo sensor magnético, a velocidade linear de um ponto de uma fita cassete év 0,045 m/s. Depois de passar pelo sensor, a fita é enrolada em uma bobina circular de diâmetro d 6,0 cm. Em quanto tempo a bobina completa uma volta?', 'Cinemática', 'Fácil')\n",
      "Values for clicked item: (Unesp 2022) Uma pessoa comprou um chuveiro eletrônico e, lendo o manual de instruções do aparelho, encontrou as seguintes informações:Potência: 7 000 WConsumo mensal de energia: 42 kWhTensão: 220 VApós alguns cálculos, essa pessoa concluiu que o autor do manual considerou que os usuários desse chuveiro tomariam, em um mês de 30 dias, banhos que, em um dia, teriam duração, em média, de:\n",
      "('(Unesp 2022) Uma pessoa comprou um chuveiro eletrônico e, lendo o manual de instruções do aparelho, encontrou as seguintes informações:Potência: 7 000 WConsumo mensal de energia: 42 kWhTensão: 220 VApós alguns cálculos, essa pessoa concluiu que o autor do manual considerou que os usuários desse chuveiro tomariam, em um mês de 30 dias, banhos que, em um dia, teriam duração, em média, de:', 'Elétrica', 'Fácil')\n"
     ]
    }
   ],
   "source": [
    "if __name__ == \"__main__\":\n",
    "    main()"
   ]
  },
  {
   "cell_type": "code",
   "execution_count": 28,
   "id": "f3f794c7",
   "metadata": {},
   "outputs": [],
   "source": [
    "var_names, var_values = decode_variables(df)"
   ]
  },
  {
   "cell_type": "code",
   "execution_count": 29,
   "id": "d142ae0d",
   "metadata": {},
   "outputs": [],
   "source": [
    "def solve_question_1():\n",
    "    var_names, var_values = get_exercise_variables(0)\n",
    "    \n",
    "\n",
    "    saltos = var_values[var_names.index('saltos')]\n",
    "    tempo = var_values[var_names.index('tempo')]\n",
    "    raio = var_values[var_names.index('raio')]\n",
    "    \n",
    "    velocidade = (saltos*2*3*(raio/100))/tempo\n",
    "    #Considerando 1 salto a cada volta, são 105 voltas (n) em 30 s (Δt). v=ΔS/Δt => n*(2πR)/Δt => (105*2*3*0,9)/30 => v=18,9m/s\n",
    "        \n",
    "        \n",
    "    return velocidade"
   ]
  },
  {
   "cell_type": "code",
   "execution_count": 30,
   "id": "ddd65da6",
   "metadata": {},
   "outputs": [
    {
     "name": "stdout",
     "output_type": "stream",
     "text": [
      "['saltos', 'tempo', 'raio'] [105.0, 30.0, 90.0]\n",
      "18.9\n"
     ]
    }
   ],
   "source": [
    "resposta = solve_question_1()\n",
    "print(resposta)"
   ]
  },
  {
   "cell_type": "code",
   "execution_count": null,
   "id": "1e2bec83",
   "metadata": {},
   "outputs": [],
   "source": [
    "def solve_question_2(): \n",
    "    var_names, var_values = get_exercise_variables(1)\n",
    "\n",
    "    velocidade_linear = var_values[var_names.index('velocidade_linear')]\n",
    "    diametro = var_values[var_names.index('diametro')]\n",
    "    \n",
    "    tempo = ((3*diametro*10^-2)/(velocidade_linear*10^-2))\n",
    "    #v=ΔS/Δt => v=πd/T => T=πd/v => T= (3*6*10^-2)/(4,5*10^-2) => T=4,0s\n",
    "\n",
    "    return tempo\n"
   ]
  },
  {
   "cell_type": "code",
   "execution_count": null,
   "id": "dd6fd163",
   "metadata": {},
   "outputs": [],
   "source": [
    "resposta = solve_question_2\n",
    "print(resposta)"
   ]
  },
  {
   "cell_type": "markdown",
   "id": "29bf044e",
   "metadata": {},
   "source": [
    "['velocidade_linear', 'diametro'] [0.045, 6.0]"
   ]
  },
  {
   "cell_type": "code",
   "execution_count": null,
   "id": "46450696",
   "metadata": {},
   "outputs": [],
   "source": [
    "def solve_question_3(): \n",
    "    var_names, var_values = get_exercise_variables(2)\n",
    "\n",
    "    potencia = var_values[var_names.index('potencia')]\n",
    "    consumo = var_values[var_names.index('consumo')]\n",
    "    tensao = var_values[var_names.index('tensao')]\n",
    "    dias = var_values[var_names.index('dias')]\n",
    "    tempo = var_values[var_names.index('tempo')]\n",
    "    tempo_banho = var_values[var_names.index('tempo_banho')]\n",
    "\n",
    "    media_banho = (tempo_banho(tempo/dias))\n",
    "    #P=ΔE/Δt => Δt= ΔE/P => Δt =42/7 [(kWh/mês)/kW] => Δt= 6 [h/mês] => 6[60min/30dias] => Δt=12min/dia\n",
    "\n",
    "    return media_banho"
   ]
  },
  {
   "cell_type": "code",
   "execution_count": null,
   "id": "6b3c1650",
   "metadata": {},
   "outputs": [],
   "source": [
    "resposta = solve_question_3\n",
    "print(resposta)"
   ]
  },
  {
   "cell_type": "code",
   "execution_count": null,
   "id": "75db49d9",
   "metadata": {},
   "outputs": [],
   "source": [
    "['potencia','consumo', 'tensao', 'dias', 'tempo', 'tempo_banho' ] [7000.0, 42.0, 220.0, 30.0, 60.0, 6.0]\n"
   ]
  },
  {
   "cell_type": "code",
   "execution_count": null,
   "id": "3bf6ec31",
   "metadata": {},
   "outputs": [],
   "source": [
    "def solve_question_4(): \n",
    "    var_names, var_values = get_exercise_variables(3)\n",
    "\n",
    "    carga = var_values[var_names.index('carga')]\n",
    "    tensao = var_values[var_names.index('tensao')]\n",
    "    corrente = var_values[var_names.index('corrente')]\n",
    "    tempo = var_values[var_names.index('tempo')]\n",
    "    \n",
    "    caraga_C = (carga = (corrente*tempo))\n",
    "    #Q=iΔt => Q=4000mA*h = 4 A * 3600s => Q= 14400C\n",
    "   \n",
    "    return caraga_C"
   ]
  },
  {
   "cell_type": "code",
   "execution_count": null,
   "id": "1e7933ad",
   "metadata": {},
   "outputs": [],
   "source": [
    "resposta = solve_question_4\n",
    "print(resposta)"
   ]
  },
  {
   "cell_type": "code",
   "execution_count": null,
   "id": "a54c8903",
   "metadata": {},
   "outputs": [],
   "source": [
    "['carga', 'tensao', 'corrente', 'tempo'] [4000.0, 5.0, 4.0, 3600.0]"
   ]
  },
  {
   "cell_type": "code",
   "execution_count": 1,
   "id": "ab6358e7",
   "metadata": {},
   "outputs": [],
   "source": [
    "def solve_question_5(): \n",
    "    var_names, var_values = get_exercise_variables(4)\n",
    "\n",
    "    f1 = var_values[var_names.index('f1')]\n",
    "    f2 = var_values[var_names.index('f2')]\n",
    "    angulo = var_values[var_names.index('angulo')]\n",
    "    \n",
    "    FR = math.sqrt(f1^2 + f2**2 + 2*f1*f2*math.cos(math.radians(angulo)))\n",
    "    #FR = √(F1^2+F2^2+2*F1*F2*cos60) => FR = √(8^2+9^2+2*8*9*0,5) => FR= 14,7N (nos exercícos o resultado está como 17,7N)\n",
    "   \n",
    "    return FR"
   ]
  },
  {
   "cell_type": "code",
   "execution_count": 2,
   "id": "9596a4b0",
   "metadata": {},
   "outputs": [
    {
     "name": "stdout",
     "output_type": "stream",
     "text": [
      "<function solve_question_5 at 0x0000026C3A5CB920>\n"
     ]
    }
   ],
   "source": [
    "resposta = solve_question_5\n",
    "print(resposta)"
   ]
  },
  {
   "cell_type": "code",
   "execution_count": null,
   "id": "b3794a3e",
   "metadata": {},
   "outputs": [],
   "source": [
    "['f1', 'f2', 'angulo'] [8.0, 9.0, 60.0]"
   ]
  },
  {
   "cell_type": "code",
   "execution_count": null,
   "id": "b3675ae3",
   "metadata": {},
   "outputs": [],
   "source": [
    "def solve_question_6(): \n",
    "    var_names, var_values = get_exercise_variables(5)\n",
    "\n",
    "    campo = var_values[var_names.index('campo')]\n",
    "    deslocamento = var_values[var_names.index('deslocamento')]\n",
    "    comprimento = var_values[var_names.index('comprimento')]\n",
    "    \n",
    "    U = campo * comprimento \n",
    "    i = deslocamento / (10**-3)  \n",
    "    p = U * i  \n",
    "    P = p / (10**9) \n",
    "    #Calculando a tensão: U=Ed=10^4*100 => U=10^6V. Calculando a Corrente: i= Q/Δt = 30/10^-3 => i=30*10^3A. Aplicando a expressão da potência elétrica: P=Ui => P=10^6*30*10^3 => P= 30*10^9W => P= 30GW\n",
    "   \n",
    "    return P"
   ]
  },
  {
   "cell_type": "code",
   "execution_count": null,
   "id": "c4ab227e",
   "metadata": {},
   "outputs": [],
   "source": [
    "resposta = solve_question_6\n",
    "print(resposta)"
   ]
  },
  {
   "cell_type": "code",
   "execution_count": null,
   "id": "d1938926",
   "metadata": {},
   "outputs": [],
   "source": [
    "['campo', 'deslocamento', 'comprimento'] [10000.0, 30.0, 100.0]"
   ]
  },
  {
   "cell_type": "code",
   "execution_count": null,
   "id": "12557cf7",
   "metadata": {},
   "outputs": [],
   "source": [
    "def solve_question_7(): \n",
    "    var_names, var_values = get_exercise_variables(6)\n",
    "\n",
    "    bateria = var_values[var_names.index('bateria')]\n",
    "    U = var_values[var_names.index('U')]\n",
    "    i = var_values[var_names.index('i')]\n",
    "    \n",
    "    R = (bateria - U) / i\n",
    "    #A força eletromotriz da Bateria (E) é ogual à ddp (diferença de potencial) na lâmpada (U) somada com a ddp no resistor (UR). Assim: E=U+UR => E=U+Ri => 9=5,7+R(0,15) => R= (9-5,7)/0,15 = 3,3/0,15 => R=22Ω\n",
    "   \n",
    "    return R"
   ]
  },
  {
   "cell_type": "code",
   "execution_count": null,
   "id": "ab6b4508",
   "metadata": {},
   "outputs": [],
   "source": [
    "resposta = solve_question_7\n",
    "print(resposta)"
   ]
  },
  {
   "cell_type": "code",
   "execution_count": null,
   "id": "49b68850",
   "metadata": {},
   "outputs": [],
   "source": [
    "['bateria', 'U', 'i'] [9.0, 5.7, 0.15]"
   ]
  }
 ],
 "metadata": {
  "kernelspec": {
   "display_name": "Python 3 (ipykernel)",
   "language": "python",
   "name": "python3"
  },
  "language_info": {
   "codemirror_mode": {
    "name": "ipython",
    "version": 3
   },
   "file_extension": ".py",
   "mimetype": "text/x-python",
   "name": "python",
   "nbconvert_exporter": "python",
   "pygments_lexer": "ipython3",
   "version": "3.11.5"
  }
 },
 "nbformat": 4,
 "nbformat_minor": 5
}

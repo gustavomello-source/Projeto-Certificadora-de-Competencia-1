{
 "cells": [
  {
   "cell_type": "code",
   "execution_count": 1,
   "id": "cdce61be",
   "metadata": {},
   "outputs": [],
   "source": [
    "import math\n",
    "import tkinter as tk\n",
    "from tkinter import ttk"
   ]
  },
  {
   "cell_type": "code",
   "execution_count": 2,
   "id": "97fda391",
   "metadata": {},
   "outputs": [],
   "source": [
    "def create_table(canvas):\n",
    "    global tree\n",
    "    tree = ttk.Treeview(canvas,show=\"headings\")\n",
    "    tree[\"columns\"] = (\"Enunciado\", \"Tópico\", \"Dificuldade\")\n",
    "    tree.heading(\"Enunciado\", text=\"Enunciado\")\n",
    "    tree.heading(\"Tópico\", text=\"Tópico\")\n",
    "    tree.heading(\"Dificuldade\", text=\"Dificuldade\", command=lambda c=\"Dificuldade\": sort_treeview(tree, c, False))\n",
    "    tree.bind('<ButtonRelease-1>', on_line_click)\n",
    "    \n",
    "    fill_list(tree)\n",
    "    \n",
    "    tree.grid(row=0, column=0)\n",
    "    tree.place(x=canvas.winfo_width(), y=canvas.winfo_height())\n",
    "    print(canvas.winfo_width(), canvas.winfo_height())"
   ]
  },
  {
   "cell_type": "code",
   "execution_count": 3,
   "id": "12d36928",
   "metadata": {},
   "outputs": [],
   "source": [
    "def fill_list(tree):\n",
    "    for index, row in df.iterrows():\n",
    "        tree.insert(\"\", \"end\", values=(row[\"question\"], row[\"topic\"], row[\"difficulty\"]))"
   ]
  },
  {
   "cell_type": "code",
   "execution_count": 4,
   "id": "5748122d",
   "metadata": {},
   "outputs": [],
   "source": [
    "def sort_treeview(tree, col, descending):\n",
    "    difficulty_order = {\"Difícil\": 0, \"Médio\": 1, \"Fácil\": 2}\n",
    "\n",
    "    data = [(difficulty_order.get(tree.set(item, col), float('inf')), item) for item in tree.get_children('')]\n",
    "    data.sort(reverse=descending)\n",
    "    for index, (_, item) in enumerate(data):\n",
    "        tree.move(item, '', index)\n",
    "    tree.heading(col, command=lambda: sort_treeview(tree, col, not descending))"
   ]
  },
  {
   "cell_type": "code",
   "execution_count": 5,
   "id": "f59ba7c2",
   "metadata": {},
   "outputs": [],
   "source": [
    "def resize_canvas(event):\n",
    "    global color1, color2\n",
    "    \n",
    "    canvas.delete(\"all\")\n",
    "    \n",
    "    color1, color2 = set_color()\n",
    "    \n",
    "    create_gradient_background(0, 0, event.width, event.height, color1, color2)"
   ]
  },
  {
   "cell_type": "code",
   "execution_count": 6,
   "id": "242236c7",
   "metadata": {},
   "outputs": [],
   "source": [
    "def resize_table(event):\n",
    "    \n",
    "    tree_width = event.width * 0.9\n",
    "    tree_height = event.height * 0.5\n",
    "    \n",
    "    tree.place(x=(event.width - tree_width) / 2, y=(event.height - tree_height) / 2, width=tree_width, height=tree_height)"
   ]
  },
  {
   "cell_type": "code",
   "execution_count": 7,
   "id": "13fa2fb3",
   "metadata": {},
   "outputs": [],
   "source": [
    "def on_line_click(event):\n",
    "    selected_item = tree.selection()\n",
    "\n",
    "    if selected_item:\n",
    "        item = tree.selection()[0]\n",
    "        values = tree.item(item, 'values')\n",
    "        print(\"Values for clicked item:\", values)\n",
    "    else:\n",
    "        print(\"No exercise selected\")"
   ]
  },
  {
   "cell_type": "code",
   "execution_count": 8,
   "id": "bdeb0d1b",
   "metadata": {},
   "outputs": [],
   "source": [
    "def create_gradient_background(x1, y1, x2, y2, color1, color2):\n",
    "    # Direção do gradiente\n",
    "    dx = x2 - x1\n",
    "    dy = y2 - y1\n",
    "    \n",
    "    #Cálculo para interpolação das cores\n",
    "    steps = max(dx, dy)\n",
    "    step_r = (color2[0] - color1[0]) / steps\n",
    "    step_g = (color2[1] - color1[1]) / steps\n",
    "    step_b = (color2[2] - color1[2]) / steps\n",
    "    \n",
    "    \n",
    "    \n",
    "    for y in range(y1, y2):\n",
    "        # Calculando cor\n",
    "        r = int((color1[0] * (y2 - y) + color2[0] * (y - y1)) / (y2 - y1))\n",
    "        g = int((color1[1] * (y2 - y) + color2[1] * (y - y1)) / (y2 - y1))\n",
    "        b = int((color1[2] * (y2 - y) + color2[2] * (y - y1)) / (y2 - y1))\n",
    "        hex_color = f\"#{r:02X}{g:02X}{b:02X}\"\n",
    "        \n",
    "        canvas.create_line(x1, y, x2, y, fill=hex_color)"
   ]
  },
  {
   "cell_type": "code",
   "execution_count": 9,
   "id": "0b7fc785",
   "metadata": {},
   "outputs": [],
   "source": [
    "def set_color():\n",
    "    c1 = (107, 31, 124)  # Rosa #A1405D\n",
    "    c2 = (161, 64, 93)  # Roxo #6B1F7C\n",
    "    return c1, c2"
   ]
  },
  {
   "cell_type": "code",
   "execution_count": 10,
   "id": "abb32008",
   "metadata": {},
   "outputs": [],
   "source": [
    "def create_canvas(root, w, h):\n",
    "    global canvas\n",
    "    canvas = ctk.Canvas(root, width=w, height=h)\n",
    "    canvas.pack(fill=tk.BOTH, expand=True)\n",
    "    create_gradient_background(0, 0, w, h, color1, color2)"
   ]
  },
  {
   "cell_type": "code",
   "execution_count": 11,
   "id": "b7fda1be",
   "metadata": {},
   "outputs": [],
   "source": [
    "def start_interface(root, w, h):\n",
    "    global canvas, color1, color2\n",
    "    canvas = tk.Canvas(root, width=w, height=h, bg=\"#A1405D\", highlightthickness=0)\n",
    "    canvas.pack(fill=tk.BOTH, expand=True)\n",
    "    canvas.bind(\"<Configure>\", resize_canvas)\n",
    "    canvas.bind(\"<Configure>\", resize_table)\n",
    "    color1, color2 = set_color()\n",
    "    create_gradient_background(0, 0, w, h, color1, color2)\n",
    "    create_table(canvas)"
   ]
  },
  {
   "cell_type": "code",
   "execution_count": 12,
   "id": "d14bf445",
   "metadata": {},
   "outputs": [],
   "source": [
    "def awake_interface():\n",
    "    #import data_module.ipynb\n",
    "    read_data()\n",
    "    root = tk.Tk()\n",
    "    root.geometry(\"1280x780\")\n",
    "    root.title(\"Main Tab\")\n",
    "    height = 780\n",
    "    width = 1280\n",
    "    start_interface(root, width, height)\n",
    "    root.mainloop()"
   ]
  },
  {
   "cell_type": "code",
   "execution_count": 13,
   "id": "46f2016d",
   "metadata": {},
   "outputs": [],
   "source": [
    "def read_data():\n",
    "    global df\n",
    "    exercises_data_path = './data/exercises.csv'\n",
    "    df = pd.read_csv(exercises_data_path)"
   ]
  },
  {
   "cell_type": "code",
   "execution_count": 14,
   "id": "7ad9337c",
   "metadata": {},
   "outputs": [],
   "source": [
    "import pandas as pd\n",
    "import json"
   ]
  },
  {
   "cell_type": "code",
   "execution_count": 15,
   "id": "f261cf68",
   "metadata": {},
   "outputs": [],
   "source": [
    "def get_dataframe():\n",
    "    return df"
   ]
  },
  {
   "cell_type": "code",
   "execution_count": 16,
   "id": "8c421ad8",
   "metadata": {},
   "outputs": [
    {
     "name": "stdout",
     "output_type": "stream",
     "text": [
      "1 1\n",
      "No exercise selected\n",
      "Values for clicked item: ('(Unesp 2018) Para obter experimentalmente a curva da diferença de potencial U em função da intensidade da corrente elétrica i para uma lâmpada, um aluno montou o circuito a seguir. Colocando entre os pontos A e B resistores com diversos valores de resistência, ele obteve diferentes valores de U e de i para a lâmpada.Considerando que a bateria de 9,0 V, os aparelhos de medida e os fios de ligação sejam ideais, quando o alunoobteve as medidas U=5,70 V e i=0,15 A, a resistência do resistor colocado entre os pontos A e B era de', 'Eletrodinamica', 'Médio')\n",
      "Values for clicked item: ('(ENEM 2015) Uma garrafa térmica tem como função evitar a troca de calor entre o líquido nela contido e o ambiente, mantendo a temperatura de seu conteúdo constante. Uma forma de orientar os consumidores na compra de uma garrafa térmica seria criar um selo de qualidade, como se faz atualmente para informar o consumo de energia de eletrodomésticos. O selo identificaria cinco categorias e informaria a variação de temperatura do conteúdoda garrafa, depois de decorridas seis horas de seu fechamento, por meio de uma porcentagem do valor inicial da temperatura de equilíbrio do líquido na garrafa. O quadro apresenta as categorias e os intervalos de variação percentual da temperatura. \\n                                 Tipo de Selo   |   Variação de Temperatura\\n                                       \\n                                        A                Menor que 10%\\n                                        B               Entre 10% e 25%\\n                                        C               Entre 25% e 40%\\n                                        D               Entre 40% e 55%\\n                                        E                Maior que 55%\\n            Para atribuir uma categoria a um modelo de garrafa térmica, são preparadas e misturadas, em uma garrafa, duas amostras de água, uma a 10°C e outra a 40°C, na proporção de um terço de água fria para dois terços de água quente. A garrafa é fechada. Seis horas depois, abre-se a garrafa e mede-se a temperatura da água, obtendo-se 16°C.', '\"Termodinâmica\"', 'Difícil')\n",
      "Values for clicked item: ('(ENEM 2015) Um carro solar é um veículo que utiliza apenas a energia solar para a sua locomoção. Tipicamente, o carro contém um painel fotovoltaico que converte a energia do Sol em energia elétrica que, por sua vez, alimenta um motor elétrico. A imagem mostra o carro solar Tokai Challenger, desenvolvido na Universidade de Tokai, no Japão, e que venceu o World Solar Challenge de 2009, uma corrida internacional de carros solares, tendo atingido uma velocidade média acima de 100 km/h.Considere uma região plana onde a insolação (energia solar por unidade de tempo e de área que chega à superfície da Terra) seja de 1 000 W/m² , que o carro solar possua massa de 200 kg e seja construído de forma que o painel fotovoltaico em seu topo tenha uma área de 9,0 m² e rendimento de 30%.', 'Cinemática', 'Difícil')\n",
      "Values for clicked item: ('(ENEM 2015) Um carro solar é um veículo que utiliza apenas a energia solar para a sua locomoção. Tipicamente, o carro contém um painel fotovoltaico que converte a energia do Sol em energia elétrica que, por sua vez, alimenta um motor elétrico. A imagem mostra o carro solar Tokai Challenger, desenvolvido na Universidade de Tokai, no Japão, e que venceu o World Solar Challenge de 2009, uma corrida internacional de carros solares, tendo atingido uma velocidade média acima de 100 km/h.Considere uma região plana onde a insolação (energia solar por unidade de tempo e de área que chega à superfície da Terra) seja de 1 000 W/m² , que o carro solar possua massa de 200 kg e seja construído de forma que o painel fotovoltaico em seu topo tenha uma área de 9,0 m² e rendimento de 30%.', 'Cinemática', 'Difícil')\n",
      "Values for clicked item: ('(ENEM 2015) Um carro solar é um veículo que utiliza apenas a energia solar para a sua locomoção. Tipicamente, o carro contém um painel fotovoltaico que converte a energia do Sol em energia elétrica que, por sua vez, alimenta um motor elétrico. A imagem mostra o carro solar Tokai Challenger, desenvolvido na Universidade de Tokai, no Japão, e que venceu o World Solar Challenge de 2009, uma corrida internacional de carros solares, tendo atingido uma velocidade média acima de 100 km/h.Considere uma região plana onde a insolação (energia solar por unidade de tempo e de área que chega à superfície da Terra) seja de 1 000 W/m² , que o carro solar possua massa de 200 kg e seja construído de forma que o painel fotovoltaico em seu topo tenha uma área de 9,0 m² e rendimento de 30%.', 'Cinemática', 'Difícil')\n",
      "Values for clicked item: ('(ENEM 2015) Um carro solar é um veículo que utiliza apenas a energia solar para a sua locomoção. Tipicamente, o carro contém um painel fotovoltaico que converte a energia do Sol em energia elétrica que, por sua vez, alimenta um motor elétrico. A imagem mostra o carro solar Tokai Challenger, desenvolvido na Universidade de Tokai, no Japão, e que venceu o World Solar Challenge de 2009, uma corrida internacional de carros solares, tendo atingido uma velocidade média acima de 100 km/h.Considere uma região plana onde a insolação (energia solar por unidade de tempo e de área que chega à superfície da Terra) seja de 1 000 W/m² , que o carro solar possua massa de 200 kg e seja construído de forma que o painel fotovoltaico em seu topo tenha uma área de 9,0 m² e rendimento de 30%.', 'Cinemática', 'Difícil')\n",
      "Values for clicked item: ('(ENEM 2015) Um carro solar é um veículo que utiliza apenas a energia solar para a sua locomoção. Tipicamente, o carro contém um painel fotovoltaico que converte a energia do Sol em energia elétrica que, por sua vez, alimenta um motor elétrico. A imagem mostra o carro solar Tokai Challenger, desenvolvido na Universidade de Tokai, no Japão, e que venceu o World Solar Challenge de 2009, uma corrida internacional de carros solares, tendo atingido uma velocidade média acima de 100 km/h.Considere uma região plana onde a insolação (energia solar por unidade de tempo e de área que chega à superfície da Terra) seja de 1 000 W/m² , que o carro solar possua massa de 200 kg e seja construído de forma que o painel fotovoltaico em seu topo tenha uma área de 9,0 m² e rendimento de 30%.', 'Cinemática', 'Difícil')\n",
      "Values for clicked item: ('Duas forças de módulos F1  8 N e F2  9 N formam entre si um ângulo de 60.Sendo cos 60=0,5 e sen 60=0,87, o módulo daforça resultante, em newtons, é, aproximadamente:', 'Dinâmica', 'Médio')\n",
      "Values for clicked item: ('Duas forças de módulos F1  8 N e F2  9 N formam entre si um ângulo de 60.Sendo cos 60=0,5 e sen 60=0,87, o módulo daforça resultante, em newtons, é, aproximadamente:', 'Dinâmica', 'Médio')\n",
      "Values for clicked item: ('Duas forças de módulos F1  8 N e F2  9 N formam entre si um ângulo de 60.Sendo cos 60=0,5 e sen 60=0,87, o módulo daforça resultante, em newtons, é, aproximadamente:', 'Dinâmica', 'Médio')\n",
      "Values for clicked item: ('Duas forças de módulos F1  8 N e F2  9 N formam entre si um ângulo de 60.Sendo cos 60=0,5 e sen 60=0,87, o módulo daforça resultante, em newtons, é, aproximadamente:', 'Dinâmica', 'Médio')\n",
      "Values for clicked item: ('Duas forças de módulos F1  8 N e F2  9 N formam entre si um ângulo de 60.Sendo cos 60=0,5 e sen 60=0,87, o módulo daforça resultante, em newtons, é, aproximadamente:', 'Dinâmica', 'Médio')\n",
      "Values for clicked item: ('Duas forças de módulos F1  8 N e F2  9 N formam entre si um ângulo de 60.Sendo cos 60=0,5 e sen 60=0,87, o módulo daforça resultante, em newtons, é, aproximadamente:', 'Dinâmica', 'Médio')\n",
      "Values for clicked item: ('Duas forças de módulos F1  8 N e F2  9 N formam entre si um ângulo de 60.Sendo cos 60=0,5 e sen 60=0,87, o módulo daforça resultante, em newtons, é, aproximadamente:', 'Dinâmica', 'Médio')\n"
     ]
    }
   ],
   "source": [
    "awake_interface()"
   ]
  },
  {
   "cell_type": "code",
   "execution_count": null,
   "id": "bc559c58",
   "metadata": {},
   "outputs": [],
   "source": []
  }
 ],
 "metadata": {
  "kernelspec": {
   "display_name": "Python 3 (ipykernel)",
   "language": "python",
   "name": "python3"
  },
  "language_info": {
   "codemirror_mode": {
    "name": "ipython",
    "version": 3
   },
   "file_extension": ".py",
   "mimetype": "text/x-python",
   "name": "python",
   "nbconvert_exporter": "python",
   "pygments_lexer": "ipython3",
   "version": "3.11.5"
  }
 },
 "nbformat": 4,
 "nbformat_minor": 5
}

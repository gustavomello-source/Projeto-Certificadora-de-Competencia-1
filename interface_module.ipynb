{
 "cells": [
  {
   "cell_type": "code",
   "execution_count": 1,
   "id": "cdce61be",
   "metadata": {},
   "outputs": [],
   "source": [
    "import math\n",
    "import tkinter as tk\n",
    "from tkinter import ttk"
   ]
  },
  {
   "cell_type": "code",
   "execution_count": 2,
   "id": "97fda391",
   "metadata": {},
   "outputs": [],
   "source": [
    "def create_table(canvas):\n",
    "    tree = ttk.Treeview(canvas,show=\"headings\")\n",
    "    tree[\"columns\"] = (\"Enunciado\", \"id\", \"Valores\")\n",
    "    tree.heading(\"Enunciado\", text=\"Enunciado\")\n",
    "    tree.heading(\"id\", text=\"id\")\n",
    "    tree.heading(\"Valores\", text=\"Valores\")\n",
    "    for i in range(50):\n",
    "        tree.insert(\"\", \"end\", values=(\"Exercício\", i, \"física\"))\n",
    "    tree.grid(row=0, column=0)\n",
    "    tree.place(x=canvas.winfo_width(), y=canvas.winfo_height())"
   ]
  },
  {
   "cell_type": "code",
   "execution_count": 3,
   "id": "f59ba7c2",
   "metadata": {},
   "outputs": [],
   "source": [
    "def resize_canvas(event):\n",
    "    global color1, color2\n",
    "    \n",
    "    canvas.delete(\"all\")\n",
    "    \n",
    "    color1, color2 = set_color()\n",
    "    \n",
    "    create_gradient_background(0, 0, event.width, event.height, color1, color2)"
   ]
  },
  {
   "cell_type": "code",
   "execution_count": 4,
   "id": "bdeb0d1b",
   "metadata": {},
   "outputs": [],
   "source": [
    "def create_gradient_background(x1, y1, x2, y2, color1, color2):\n",
    "    # Direção do gradiente\n",
    "    dx = x2 - x1\n",
    "    dy = y2 - y1\n",
    "    \n",
    "    #Cálculo para interpolação das cores\n",
    "    steps = max(dx, dy)\n",
    "    step_r = (color2[0] - color1[0]) / steps\n",
    "    step_g = (color2[1] - color1[1]) / steps\n",
    "    step_b = (color2[2] - color1[2]) / steps\n",
    "    \n",
    "    \n",
    "    \n",
    "    for y in range(y1, y2):\n",
    "        # Calculando cor\n",
    "        r = int((color1[0] * (y2 - y) + color2[0] * (y - y1)) / (y2 - y1))\n",
    "        g = int((color1[1] * (y2 - y) + color2[1] * (y - y1)) / (y2 - y1))\n",
    "        b = int((color1[2] * (y2 - y) + color2[2] * (y - y1)) / (y2 - y1))\n",
    "        hex_color = f\"#{r:02X}{g:02X}{b:02X}\"\n",
    "        \n",
    "        canvas.create_line(x1, y, x2, y, fill=hex_color)"
   ]
  },
  {
   "cell_type": "code",
   "execution_count": 5,
   "id": "0b7fc785",
   "metadata": {},
   "outputs": [],
   "source": [
    "def set_color():\n",
    "    c1 = (107, 31, 124)  # Rosa #A1405D\n",
    "    c2 = (161, 64, 93)  # Roxo #6B1F7C\n",
    "    return c1, c2"
   ]
  },
  {
   "cell_type": "code",
   "execution_count": 6,
   "id": "abb32008",
   "metadata": {},
   "outputs": [],
   "source": [
    "def create_canvas(root, w, h):\n",
    "    global canvas\n",
    "    canvas = ctk.Canvas(root, width=w, height=h)\n",
    "    canvas.pack(fill=tk.BOTH, expand=True)\n",
    "    canvas.bind(\"<Configure>\", resize_canvas)\n",
    "    create_gradient_background(0, 0, w, h, color1, color2)"
   ]
  },
  {
   "cell_type": "code",
   "execution_count": 7,
   "id": "b7fda1be",
   "metadata": {},
   "outputs": [],
   "source": [
    "def start_interface(root, w, h):\n",
    "    global canvas, color1, color2\n",
    "    canvas = tk.Canvas(root, width=w, height=h, bg=\"#A1405D\", highlightthickness=0)\n",
    "    canvas.pack(fill=tk.BOTH, expand=True)\n",
    "    canvas.bind(\"<Configure>\", resize_canvas)\n",
    "    color1, color2 = set_color()\n",
    "    create_gradient_background(0, 0, w, h, color1, color2)\n",
    "    create_table(canvas)"
   ]
  },
  {
   "cell_type": "code",
   "execution_count": 8,
   "id": "d14bf445",
   "metadata": {},
   "outputs": [],
   "source": [
    "def awake_interface():\n",
    "    root = tk.Tk()\n",
    "    root.geometry(\"1280x780\")\n",
    "    root.title(\"Main Tab\")\n",
    "    height = 780\n",
    "    width = 1280\n",
    "    start_interface(root, width, height)\n",
    "    root.mainloop()"
   ]
  },
  {
   "cell_type": "code",
   "execution_count": 9,
   "id": "8c421ad8",
   "metadata": {},
   "outputs": [],
   "source": [
    "awake_interface()"
   ]
  },
  {
   "cell_type": "code",
   "execution_count": null,
   "id": "7ad9337c",
   "metadata": {},
   "outputs": [],
   "source": []
  }
 ],
 "metadata": {
  "kernelspec": {
   "display_name": "Python 3 (ipykernel)",
   "language": "python",
   "name": "python3"
  },
  "language_info": {
   "codemirror_mode": {
    "name": "ipython",
    "version": 3
   },
   "file_extension": ".py",
   "mimetype": "text/x-python",
   "name": "python",
   "nbconvert_exporter": "python",
   "pygments_lexer": "ipython3",
   "version": "3.11.5"
  }
 },
 "nbformat": 4,
 "nbformat_minor": 5
}

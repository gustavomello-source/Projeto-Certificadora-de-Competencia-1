{
 "cells": [
  {
   "cell_type": "code",
   "execution_count": 1,
   "id": "cdce61be",
   "metadata": {},
   "outputs": [],
   "source": [
    "import math\n",
    "import tkinter as tk\n",
    "from tkinter import ttk"
   ]
  },
  {
   "cell_type": "code",
   "execution_count": 2,
   "id": "d542adb9",
   "metadata": {},
   "outputs": [],
   "source": [
    "import pandas as pd"
   ]
  },
  {
   "cell_type": "code",
   "execution_count": 3,
   "id": "97fda391",
   "metadata": {},
   "outputs": [],
   "source": [
    "def create_table(canvas):\n",
    "    global tree\n",
    "\n",
    "    tree = ttk.Treeview(\n",
    "        canvas, \n",
    "        show=\"headings\",\n",
    "        selectmode=\"browse\",\n",
    "        height=10,\n",
    "        padding=10,\n",
    "    )\n",
    "    \n",
    "    tree[\"columns\"] = (\"Enunciado\", \"Tópico\", \"Dificuldade\", \"Resolvido?\")\n",
    "    tree.heading(\"Enunciado\", text=\"Enunciado\")\n",
    "    tree.heading(\"Tópico\", text=\"Tópico\")\n",
    "    tree.heading(\"Dificuldade\", text=\"Dificuldade\", command=lambda c=\"Dificuldade\": sort_treeview(tree, c, False))\n",
    "    tree.heading(\"Resolvido?\", text=\"Resolvido?\")\n",
    "    tree.bind('<ButtonRelease-1>', on_line_click)\n",
    "\n",
    "    fill_list(tree)\n",
    "\n",
    "    tree.place(x=250, y=175)\n",
    "\n",
    "    print(\"Created Treeview\")\n",
    "    return tree\n"
   ]
  },
  {
   "cell_type": "code",
   "execution_count": 4,
   "id": "12d36928",
   "metadata": {},
   "outputs": [],
   "source": [
    "def fill_list(tree):\n",
    "    for index, row in df.iterrows():\n",
    "        tree.insert(\"\", \"end\", values=(row[\"question\"], row[\"topic\"], row[\"difficulty\"], row[\"resolvido\"]))"
   ]
  },
  {
   "cell_type": "code",
   "execution_count": 5,
   "id": "f162fa97",
   "metadata": {},
   "outputs": [],
   "source": [
    "def create_text_box(canvas):\n",
    "    text_box = tk.Text(\n",
    "        canvas,\n",
    "        height=10,  # Set the desired height (adjust as needed)\n",
    "        width=40,   # Set the desired width (adjust as needed)\n",
    "    )\n",
    "\n",
    "    canvas.create_window(550, 300, window=text_box)  # Adjust the coordinates as needed\n",
    "\n",
    "    text_box.pack(expand=False)\n",
    "    text_box.insert('end', \"Question\")\n",
    "    text_box.config(state='disabled')\n",
    "\n",
    "    print(\"Created Text Box\")\n",
    "    return text_box"
   ]
  },
  {
   "cell_type": "code",
   "execution_count": 6,
   "id": "2f2dbb72",
   "metadata": {},
   "outputs": [],
   "source": [
    "def fill_text_box(text):\n",
    "    global text_box\n",
    "    text_box.delete(0, tk.END)\n",
    "    text_box.insert(0, text)"
   ]
  },
  {
   "cell_type": "code",
   "execution_count": 7,
   "id": "5748122d",
   "metadata": {},
   "outputs": [],
   "source": [
    "def sort_treeview(tree, col, descending):\n",
    "    difficulty_order = {\"Difícil\": 0, \"Médio\": 1, \"Fácil\": 2}\n",
    "\n",
    "    data = [(difficulty_order.get(tree.set(item, col), float('inf')), item) for item in tree.get_children('')]\n",
    "    data.sort(reverse=descending)\n",
    "    for index, (_, item) in enumerate(data):\n",
    "        tree.move(item, '', index)\n",
    "    tree.heading(col, command=lambda: sort_treeview(tree, col, not descending))"
   ]
  },
  {
   "cell_type": "code",
   "execution_count": 8,
   "id": "f59ba7c2",
   "metadata": {},
   "outputs": [],
   "source": [
    "def resize_canvas(event):\n",
    "    global color1, color2\n",
    "    \n",
    "    canvas.delete(\"all\")\n",
    "    \n",
    "    color1, color2 = set_color()\n",
    "    \n",
    "    create_gradient_background(0, 0, event.width, event.height, color1, color2)"
   ]
  },
  {
   "cell_type": "code",
   "execution_count": 9,
   "id": "242236c7",
   "metadata": {},
   "outputs": [],
   "source": [
    "def resize_table(event):\n",
    "    print(\"CALLED RESIZE TABLE\")\n",
    "    tree_width = event.width * 0.9\n",
    "    tree_height = event.height * 0.5\n",
    "    \n",
    "    tree.place(x=(event.width - tree_width) / 2, y=(event.height - tree_height) / 2, width=tree_width, height=tree_height)"
   ]
  },
  {
   "cell_type": "code",
   "execution_count": 10,
   "id": "13fa2fb3",
   "metadata": {},
   "outputs": [],
   "source": [
    "def on_line_click(event):\n",
    "    selected_item = tree.selection()\n",
    "\n",
    "    if selected_item:\n",
    "        item = tree.selection()[0]\n",
    "        question_text = tree.item(item, \"values\")[0]\n",
    "        print(\"Values for clicked item:\", question_text)\n",
    "        #fill_text_box(question_text)\n",
    "    else:\n",
    "        print(\"No exercise selected\")\n",
    "        #fill_text_box(\"No exercise selected\")"
   ]
  },
  {
   "cell_type": "code",
   "execution_count": 11,
   "id": "bdeb0d1b",
   "metadata": {},
   "outputs": [],
   "source": [
    "def create_gradient_background(x1, y1, x2, y2, color1, color2):\n",
    "    # Direção do gradiente\n",
    "    dx = x2 - x1\n",
    "    dy = y2 - y1\n",
    "    \n",
    "    #Cálculo para interpolação das cores\n",
    "    steps = max(dx, dy)\n",
    "    step_r = (color2[0] - color1[0]) / steps\n",
    "    step_g = (color2[1] - color1[1]) / steps\n",
    "    step_b = (color2[2] - color1[2]) / steps\n",
    "    \n",
    "    \n",
    "    \n",
    "    for y in range(y1, y2):\n",
    "        # Calculando cor\n",
    "        r = int((color1[0] * (y2 - y) + color2[0] * (y - y1)) / (y2 - y1))\n",
    "        g = int((color1[1] * (y2 - y) + color2[1] * (y - y1)) / (y2 - y1))\n",
    "        b = int((color1[2] * (y2 - y) + color2[2] * (y - y1)) / (y2 - y1))\n",
    "        hex_color = f\"#{r:02X}{g:02X}{b:02X}\"\n",
    "        \n",
    "        canvas.create_line(x1, y, x2, y, fill=hex_color)"
   ]
  },
  {
   "cell_type": "code",
   "execution_count": 12,
   "id": "0b7fc785",
   "metadata": {},
   "outputs": [],
   "source": [
    "def set_color():\n",
    "    c1 = (107, 31, 124)  # Rosa #A1405D\n",
    "    c2 = (161, 64, 93)  # Roxo #6B1F7C\n",
    "    return c1, c2"
   ]
  },
  {
   "cell_type": "code",
   "execution_count": 13,
   "id": "abb32008",
   "metadata": {},
   "outputs": [],
   "source": [
    "def create_canvas(root, w, h):\n",
    "    global canvas\n",
    "    canvas = ctk.Canvas(root, width=w, height=h)\n",
    "    canvas.pack(fill=tk.BOTH, expand=True)\n",
    "    create_gradient_background(0, 0, w, h, color1, color2)"
   ]
  },
  {
   "cell_type": "code",
   "execution_count": 14,
   "id": "b7fda1be",
   "metadata": {},
   "outputs": [],
   "source": [
    "def start_interface(root, w, h):\n",
    "    global canvas, color1, color2\n",
    "    global text_box\n",
    "    canvas = tk.Canvas(root, width=w, height=h, bg=\"#A1405D\", highlightthickness=0)\n",
    "    canvas.pack(fill=tk.BOTH, expand=True)\n",
    "    canvas.bind(\"<Configure>\", resize_canvas, resize_table)\n",
    "    \n",
    "    color1, color2 = set_color()\n",
    "    \n",
    "    create_table(canvas)\n",
    "    text_box = create_text_box(canvas)\n",
    "    \n",
    "    root.mainloop()"
   ]
  },
  {
   "cell_type": "code",
   "execution_count": 15,
   "id": "d14bf445",
   "metadata": {},
   "outputs": [],
   "source": [
    "def awake_interface():\n",
    "    #import data_module.ipynb\n",
    "    read_data()\n",
    "    root = tk.Tk()\n",
    "    root.geometry(\"1280x780\")\n",
    "    root.title(\"Main Tab\")\n",
    "    height = 780\n",
    "    width = 1280\n",
    "    start_interface(root, width, height)"
   ]
  },
  {
   "cell_type": "code",
   "execution_count": 16,
   "id": "61545514",
   "metadata": {},
   "outputs": [],
   "source": [
    "def install_dependencies():\n",
    "    !pip install tkinter\n",
    "    !pip install tk\n",
    "    !pip install pandas"
   ]
  },
  {
   "cell_type": "code",
   "execution_count": 17,
   "id": "46f2016d",
   "metadata": {},
   "outputs": [],
   "source": [
    "def read_data(): #FROM DATA_MODULE\n",
    "    global df\n",
    "    exercises_data_path = './data/exercises.csv'\n",
    "    df = pd.read_csv(exercises_data_path)"
   ]
  },
  {
   "cell_type": "code",
   "execution_count": 18,
   "id": "f261cf68",
   "metadata": {},
   "outputs": [],
   "source": [
    "def get_dataframe(): #FROM DATA_MODULE\n",
    "    return df"
   ]
  },
  {
   "cell_type": "code",
   "execution_count": 19,
   "id": "67fa9bc7",
   "metadata": {},
   "outputs": [],
   "source": [
    "def decode_variables(df): #FROM DATA MODULE\n",
    "    global var_names\n",
    "    var_names = []\n",
    "    global var_values\n",
    "    var_values = []\n",
    "    for row in df['variables']:\n",
    "        variables = row.split(';')\n",
    "        var_dict = {}\n",
    "        \n",
    "        for variable in variables:\n",
    "            var_parts = variable.split('=')\n",
    "            if len(var_parts) == 2:\n",
    "                var_name, var_value = var_parts\n",
    "                var_dict[var_name] = float(var_value) #converte strings em floats\n",
    "        \n",
    "        var_names.append(var_dict.keys())\n",
    "        var_values.append(var_dict.values())\n",
    "        \n",
    "    return var_names, var_values"
   ]
  },
  {
   "cell_type": "code",
   "execution_count": 20,
   "id": "fe522494",
   "metadata": {},
   "outputs": [],
   "source": [
    "def get_exercise_variables(id):\n",
    "    global var_names, var_values\n",
    "    exercise_variable_names = []\n",
    "    exercise_variable_values = []\n",
    "    \n",
    "    for var in var_names[id]:\n",
    "        exercise_variable_names.append(var)\n",
    "        \n",
    "    \n",
    "    for var in var_values[id]:\n",
    "        exercise_variable_values.append(var)\n",
    "    \n",
    "    print(exercise_variable_names, exercise_variable_values)\n",
    "    return exercise_variable_names, exercise_variable_values"
   ]
  },
  {
   "cell_type": "code",
   "execution_count": 21,
   "id": "8c421ad8",
   "metadata": {},
   "outputs": [],
   "source": [
    "def main():\n",
    "    awake_interface()"
   ]
  },
  {
   "cell_type": "code",
   "execution_count": 22,
   "id": "cf6d98ee",
   "metadata": {},
   "outputs": [
    {
     "name": "stdout",
     "output_type": "stream",
     "text": [
      "Created Treeview\n",
      "Created Text Box\n"
     ]
    }
   ],
   "source": [
    "if __name__ == \"__main__\":\n",
    "    main()"
   ]
  },
  {
   "cell_type": "code",
   "execution_count": 23,
   "id": "f3f794c7",
   "metadata": {},
   "outputs": [],
   "source": [
    "var_names, var_values = decode_variables(df)"
   ]
  },
  {
   "cell_type": "code",
   "execution_count": 24,
   "id": "d142ae0d",
   "metadata": {},
   "outputs": [],
   "source": [
    "def solve_question_1():\n",
    "    var_names, var_values = get_exercise_variables(0)\n",
    "    \n",
    "\n",
    "    saltos = var_values[var_names.index('saltos')]\n",
    "    tempo = var_values[var_names.index('tempo')]\n",
    "    raio = var_values[var_names.index('raio')]\n",
    "    \n",
    "    velocidade = (saltos*2*3*(raio/100))/tempo\n",
    "    #Considerando 1 salto a cada volta, são 105 voltas (n) em 30 s (Δt). v=ΔS/Δt => n*(2πR)/Δt => (105*2*3*0,9)/30 => v=18,9m/s\n",
    "        \n",
    "        \n",
    "    return velocidade"
   ]
  },
  {
   "cell_type": "code",
   "execution_count": 25,
   "id": "ddd65da6",
   "metadata": {},
   "outputs": [
    {
     "name": "stdout",
     "output_type": "stream",
     "text": [
      "['saltos', 'tempo', 'raio'] [105.0, 30.0, 90.0]\n",
      "18.9\n"
     ]
    }
   ],
   "source": [
    "resposta = solve_question_1()\n",
    "print(resposta)"
   ]
  }
 ],
 "metadata": {
  "kernelspec": {
   "display_name": "Python 3 (ipykernel)",
   "language": "python",
   "name": "python3"
  },
  "language_info": {
   "codemirror_mode": {
    "name": "ipython",
    "version": 3
   },
   "file_extension": ".py",
   "mimetype": "text/x-python",
   "name": "python",
   "nbconvert_exporter": "python",
   "pygments_lexer": "ipython3",
   "version": "3.11.5"
  }
 },
 "nbformat": 4,
 "nbformat_minor": 5
}

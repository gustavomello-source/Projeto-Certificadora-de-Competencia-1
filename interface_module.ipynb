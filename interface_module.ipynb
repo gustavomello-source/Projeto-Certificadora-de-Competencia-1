{
 "cells": [
  {
   "cell_type": "code",
   "execution_count": 1,
   "id": "cdce61be",
   "metadata": {},
   "outputs": [],
   "source": [
    "import tkinter as tk\n",
    "import math\n",
    "import customtkinter as ctk"
   ]
  },
  {
   "cell_type": "code",
   "execution_count": 2,
   "id": "b7fda1be",
   "metadata": {},
   "outputs": [],
   "source": [
    "def startInterface(root, w, h):\n",
    "    createCanvas(root, w, h)\n",
    "    root.mainloop()"
   ]
  },
  {
   "cell_type": "code",
   "execution_count": 3,
   "id": "abb32008",
   "metadata": {},
   "outputs": [],
   "source": [
    "def createCanvas(root, w, h):\n",
    "    global canvas\n",
    "    canvas = tk.Canvas(root, width=w, height=h)\n",
    "    canvas.pack(fill=tk.BOTH, expand=True)\n",
    "    canvas.bind(\"<Configure>\", resize_canvas)\n",
    "    color1, color2 = get_color()\n",
    "    create_gradient_background(0, 0, w, h, color1, color2)"
   ]
  },
  {
   "cell_type": "code",
   "execution_count": 4,
   "id": "0b7fc785",
   "metadata": {},
   "outputs": [],
   "source": [
    "def get_color():\n",
    "    c1 = (107, 31, 124)  # Rosa #A1405D\n",
    "    c2 = (161, 64, 93)  # Roxo #6B1F7C\n",
    "    return c1, c2"
   ]
  },
  {
   "cell_type": "code",
   "execution_count": 5,
   "id": "bdeb0d1b",
   "metadata": {},
   "outputs": [],
   "source": [
    "def create_gradient_background(x1, y1, x2, y2, color1, color2):\n",
    "    # Direção do gradiente\n",
    "    dx = x2 - x1\n",
    "    dy = y2 - y1\n",
    "    \n",
    "    #Cálculo para interpolação das cores\n",
    "    steps = max(dx, dy)\n",
    "    step_r = (color2[0] - color1[0]) / steps\n",
    "    step_g = (color2[1] - color1[1]) / steps\n",
    "    step_b = (color2[2] - color1[2]) / steps\n",
    "    \n",
    "    \n",
    "    \n",
    "    for y in range(y1, y2):\n",
    "        # Calculando cor\n",
    "        r = int((color1[0] * (y2 - y) + color2[0] * (y - y1)) / (y2 - y1))\n",
    "        g = int((color1[1] * (y2 - y) + color2[1] * (y - y1)) / (y2 - y1))\n",
    "        b = int((color1[2] * (y2 - y) + color2[2] * (y - y1)) / (y2 - y1))\n",
    "        hex_color = f\"#{r:02X}{g:02X}{b:02X}\"\n",
    "        \n",
    "        canvas.create_line(x1, y, x2, y, fill=hex_color)"
   ]
  },
  {
   "cell_type": "code",
   "execution_count": 6,
   "id": "f59ba7c2",
   "metadata": {},
   "outputs": [],
   "source": [
    "def resize_canvas(event):\n",
    "    canvas.config(width=event.width, height=event.height)"
   ]
  },
  {
   "cell_type": "code",
   "execution_count": 7,
   "id": "8c421ad8",
   "metadata": {},
   "outputs": [],
   "source": [
    "root = tk.Tk()\n",
    "root.geometry(\"1280x780\")\n",
    "root.title(\"Main Tab\")\n",
    "height = 780\n",
    "width = 1280\n",
    "startInterface(root, width, height)"
   ]
  },
  {
   "cell_type": "code",
   "execution_count": null,
   "id": "7a0081ef",
   "metadata": {},
   "outputs": [],
   "source": []
  }
 ],
 "metadata": {
  "kernelspec": {
   "display_name": "Python 3 (ipykernel)",
   "language": "python",
   "name": "python3"
  },
  "language_info": {
   "codemirror_mode": {
    "name": "ipython",
    "version": 3
   },
   "file_extension": ".py",
   "mimetype": "text/x-python",
   "name": "python",
   "nbconvert_exporter": "python",
   "pygments_lexer": "ipython3",
   "version": "3.10.9"
  }
 },
 "nbformat": 4,
 "nbformat_minor": 5
}

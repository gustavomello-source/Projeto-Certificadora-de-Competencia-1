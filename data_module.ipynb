{
 "cells": [
  {
   "cell_type": "code",
   "execution_count": 1,
   "id": "049e3b3d",
   "metadata": {},
   "outputs": [],
   "source": [
    "import pandas as pd\n",
    "import json\n",
    "import numpy as np"
   ]
  },
  {
   "cell_type": "code",
   "execution_count": 2,
   "id": "fd4e26e2",
   "metadata": {},
   "outputs": [],
   "source": [
    "exercises_data_path = './data/exercises.json'"
   ]
  },
  {
   "cell_type": "code",
   "execution_count": 3,
   "id": "ef73e2f7",
   "metadata": {},
   "outputs": [],
   "source": [
    "with open(exercises_data_path, 'r') as json_file:\n",
    "    exercises_data = json.load(json_file)"
   ]
  },
  {
   "cell_type": "code",
   "execution_count": 6,
   "id": "d0aa1e63",
   "metadata": {},
   "outputs": [
    {
     "data": {
      "text/plain": [
       "{'exercises': [{'id': 1,\n",
       "   'question': 'What is the equation for calculating velocity?',\n",
       "   'answer': 'Velocity (v) = Distance (d) / Time (t)',\n",
       "   'topic': 'Kinematics',\n",
       "   'difficulty': 'Easy'},\n",
       "  {'id': 2,\n",
       "   'question': 'Calculate the force acting on an object with mass 10 kg and acceleration 5 m/s^2.',\n",
       "   'answer': 'Force (F) = Mass (m) * Acceleration (a) => F = 10 kg * 5 m/s^2 = 50 N',\n",
       "   'topic': \"Newton's Laws\",\n",
       "   'difficulty': 'Medium'},\n",
       "  {'id': 3,\n",
       "   'question': 'What is the formula for work done?',\n",
       "   'answer': 'Work (W) = Force (F) * Distance (d) * cos(theta)',\n",
       "   'topic': 'Work and Energy',\n",
       "   'difficulty': 'Medium'},\n",
       "  {'id': 4,\n",
       "   'question': 'Define momentum.',\n",
       "   'answer': 'Momentum (p) = Mass (m) * Velocity (v)',\n",
       "   'topic': 'Momentum and Impulse',\n",
       "   'difficulty': 'Hard'}]}"
      ]
     },
     "execution_count": 6,
     "metadata": {},
     "output_type": "execute_result"
    }
   ],
   "source": [
    "exercises_data"
   ]
  },
  {
   "cell_type": "code",
   "execution_count": null,
   "id": "bef57d84",
   "metadata": {},
   "outputs": [],
   "source": []
  }
 ],
 "metadata": {
  "kernelspec": {
   "display_name": "Python 3 (ipykernel)",
   "language": "python",
   "name": "python3"
  },
  "language_info": {
   "codemirror_mode": {
    "name": "ipython",
    "version": 3
   },
   "file_extension": ".py",
   "mimetype": "text/x-python",
   "name": "python",
   "nbconvert_exporter": "python",
   "pygments_lexer": "ipython3",
   "version": "3.10.9"
  }
 },
 "nbformat": 4,
 "nbformat_minor": 5
}

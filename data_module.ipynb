{
 "cells": [
  {
   "cell_type": "code",
   "execution_count": 5,
   "id": "049e3b3d",
   "metadata": {},
   "outputs": [],
   "source": [
    "import pandas as pd\n",
    "import json\n",
    "import numpy as np"
   ]
  },
  {
   "cell_type": "code",
   "execution_count": 13,
   "id": "fd4e26e2",
   "metadata": {},
   "outputs": [],
   "source": [
    "exercises_data_path = './data/exercises.json'"
   ]
  },
  {
   "cell_type": "code",
   "execution_count": 12,
   "id": "ef73e2f7",
   "metadata": {},
   "outputs": [],
   "source": [
    "with open(exercises_data_path, 'r') as json_file:\n",
    "    exercises_data = json.load(json_file)"
   ]
  },
  {
   "cell_type": "code",
   "execution_count": null,
   "id": "d0aa1e63",
   "metadata": {},
   "outputs": [],
   "source": []
  }
 ],
 "metadata": {
  "kernelspec": {
   "display_name": "Python 3 (ipykernel)",
   "language": "python",
   "name": "python3"
  },
  "language_info": {
   "codemirror_mode": {
    "name": "ipython",
    "version": 3
   },
   "file_extension": ".py",
   "mimetype": "text/x-python",
   "name": "python",
   "nbconvert_exporter": "python",
   "pygments_lexer": "ipython3",
   "version": "3.10.9"
  }
 },
 "nbformat": 4,
 "nbformat_minor": 5
}
